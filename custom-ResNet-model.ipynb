{
 "cells": [
  {
   "cell_type": "markdown",
   "id": "distinguished-extreme",
   "metadata": {
    "papermill": {
     "duration": 0.014022,
     "end_time": "2021-06-05T13:17:22.929334",
     "exception": false,
     "start_time": "2021-06-05T13:17:22.915312",
     "status": "completed"
    },
    "tags": []
   },
   "source": [
    "# Imports"
   ]
  },
  {
   "cell_type": "code",
   "execution_count": 1,
   "id": "played-lafayette",
   "metadata": {
    "execution": {
     "iopub.execute_input": "2021-06-05T13:17:22.965784Z",
     "iopub.status.busy": "2021-06-05T13:17:22.965128Z",
     "iopub.status.idle": "2021-06-05T13:17:24.325931Z",
     "shell.execute_reply": "2021-06-05T13:17:24.324926Z",
     "shell.execute_reply.started": "2021-06-05T11:40:09.213923Z"
    },
    "papermill": {
     "duration": 1.383876,
     "end_time": "2021-06-05T13:17:24.326099",
     "exception": false,
     "start_time": "2021-06-05T13:17:22.942223",
     "status": "completed"
    },
    "tags": []
   },
   "outputs": [],
   "source": [
    "import numpy as np\n",
    "import torch\n",
    "from torch import nn\n",
    "from torch import optim\n",
    "import torch.nn.functional as F\n",
    "from torchvision import datasets, transforms, models\n",
    "from torch.utils.data.sampler import SubsetRandomSampler\n",
    "import os\n",
    "from tqdm import tqdm\n",
    "from time import sleep\n",
    "import cv2"
   ]
  },
  {
   "cell_type": "markdown",
   "id": "apart-import",
   "metadata": {
    "papermill": {
     "duration": 0.012589,
     "end_time": "2021-06-05T13:17:24.351728",
     "exception": false,
     "start_time": "2021-06-05T13:17:24.339139",
     "status": "completed"
    },
    "tags": []
   },
   "source": [
    "# DataLoader"
   ]
  },
  {
   "cell_type": "code",
   "execution_count": 2,
   "id": "smart-cancellation",
   "metadata": {
    "execution": {
     "iopub.execute_input": "2021-06-05T13:17:24.386517Z",
     "iopub.status.busy": "2021-06-05T13:17:24.385963Z",
     "iopub.status.idle": "2021-06-05T13:18:20.851751Z",
     "shell.execute_reply": "2021-06-05T13:18:20.852453Z",
     "shell.execute_reply.started": "2021-06-05T11:40:13.778524Z"
    },
    "papermill": {
     "duration": 56.48796,
     "end_time": "2021-06-05T13:18:20.852669",
     "exception": false,
     "start_time": "2021-06-05T13:17:24.364709",
     "status": "completed"
    },
    "tags": []
   },
   "outputs": [
    {
     "name": "stdout",
     "output_type": "stream",
     "text": [
      "Train Size: 71360 , No of bacthes: 2230\n",
      "Test Size: 15680 , No of bacthes: 490\n",
      "Classes: ['A', 'B', 'C', 'D', 'E', 'F', 'G', 'H', 'I', 'J', 'K', 'L', 'M', 'N', 'O', 'P', 'Q', 'R', 'S', 'T', 'U', 'V', 'W', 'X', 'Y', 'Z', 'del', 'nothing', 'space']\n",
      "device: cuda\n"
     ]
    }
   ],
   "source": [
    "data_dir = '../input/asl-alphabet/asl_alphabet_train/asl_alphabet_train'\n",
    "def load_split_train_test(datadir, batch_size, valid_size = .2):\n",
    "    train_transforms = transforms.Compose([transforms.Resize((224, 244)), transforms.ToTensor(),])\n",
    "    test_transforms = transforms.Compose([transforms.Resize((224, 224)), transforms.ToTensor(),])\n",
    "\n",
    "    train_data = datasets.ImageFolder(datadir, transform=train_transforms)\n",
    "    test_data = datasets.ImageFolder(datadir, transform=test_transforms)\n",
    "\n",
    "    num_train = len(train_data)\n",
    "    indices = list(range(num_train))\n",
    "    split = int(np.floor(valid_size * num_train))\n",
    "    np.random.shuffle(indices)\n",
    "\n",
    "    train_idx, test_idx = indices[split:], indices[:split]\n",
    "    train_sampler = SubsetRandomSampler(train_idx)\n",
    "    test_sampler = SubsetRandomSampler(test_idx)\n",
    "\n",
    "    trainloader = torch.utils.data.DataLoader(train_data, sampler=train_sampler, batch_size=batch_size)\n",
    "    testloader = torch.utils.data.DataLoader(test_data, sampler=test_sampler, batch_size=batch_size)\n",
    "\n",
    "    return trainloader, testloader\n",
    "\n",
    "batch_size = 32\n",
    "trainloader, testloader = load_split_train_test(data_dir, batch_size, .18)\n",
    "print(\"Train Size:\", len(trainloader) * batch_size, \", No of bacthes:\", len(trainloader))\n",
    "print(\"Test Size:\", len(testloader) * batch_size, \", No of bacthes:\", len(testloader))\n",
    "print(\"Classes:\", trainloader.dataset.classes)\n",
    "\n",
    "device = torch.device(\"cuda\" if torch.cuda.is_available() else \"cpu\")\n",
    "print(\"device:\",device)"
   ]
  },
  {
   "cell_type": "markdown",
   "id": "everyday-chapel",
   "metadata": {
    "papermill": {
     "duration": 0.02755,
     "end_time": "2021-06-05T13:18:20.901865",
     "exception": false,
     "start_time": "2021-06-05T13:18:20.874315",
     "status": "completed"
    },
    "tags": []
   },
   "source": [
    "# Model Building"
   ]
  },
  {
   "cell_type": "code",
   "execution_count": 3,
   "id": "colonial-proof",
   "metadata": {
    "execution": {
     "iopub.execute_input": "2021-06-05T13:18:20.954657Z",
     "iopub.status.busy": "2021-06-05T13:18:20.953821Z",
     "iopub.status.idle": "2021-06-05T13:18:20.979725Z",
     "shell.execute_reply": "2021-06-05T13:18:20.980686Z",
     "shell.execute_reply.started": "2021-06-05T11:41:29.046688Z"
    },
    "papermill": {
     "duration": 0.059482,
     "end_time": "2021-06-05T13:18:20.980871",
     "exception": false,
     "start_time": "2021-06-05T13:18:20.921389",
     "status": "completed"
    },
    "tags": []
   },
   "outputs": [],
   "source": [
    "import torch\n",
    "class CNNClassifier(torch.nn.Module):\n",
    "\n",
    "    def __init__(self):\n",
    "        super().__init__()\n",
    "        self.master = torch.nn.Sequential(torch.nn.Conv2d(3, 16, kernel_size=7, padding=3, stride=2),\n",
    "                                          torch.nn.ReLU(),\n",
    "                                          torch.nn.MaxPool2d(kernel_size=3, stride=2, padding=1))\n",
    "        torch.nn.init.xavier_normal_(self.master[0].weight)\n",
    "\n",
    "        self.block1 = torch.nn.Sequential(torch.nn.Conv2d(in_channels=16, out_channels=16, kernel_size=3, padding=1),\n",
    "                                          torch.nn.BatchNorm2d(16),\n",
    "                                          torch.nn.ReLU(),\n",
    "                                          torch.nn.Conv2d(in_channels=16, out_channels=32, kernel_size=3, padding=1),\n",
    "                                          torch.nn.BatchNorm2d(32, eps=1e-05, momentum=0.1, affine=True),\n",
    "                                          torch.nn.ReLU())\n",
    "\n",
    "        self.block2 = torch.nn.Sequential(\n",
    "            torch.nn.Conv2d(in_channels=32, out_channels=32, kernel_size=3, padding=1),\n",
    "            torch.nn.BatchNorm2d(32, eps=1e-05, momentum=0.1, affine=True),\n",
    "            torch.nn.ReLU(),\n",
    "            torch.nn.Conv2d(in_channels=32, out_channels=64, kernel_size=3, padding=1),\n",
    "            torch.nn.BatchNorm2d(64, eps=1e-05, momentum=0.1, affine=True),\n",
    "            torch.nn.ReLU())\n",
    "\n",
    "        self.block3 = torch.nn.Sequential(\n",
    "            torch.nn.Conv2d(in_channels=64, out_channels=64, kernel_size=3, padding=1),\n",
    "            torch.nn.BatchNorm2d(64, eps=1e-05, momentum=0.1, affine=True),\n",
    "            torch.nn.ReLU(),\n",
    "            torch.nn.Conv2d(in_channels=64, out_channels=128, kernel_size=3, padding=1),\n",
    "            torch.nn.BatchNorm2d(128, eps=1e-05, momentum=0.1, affine=True),\n",
    "            torch.nn.ReLU())\n",
    "\n",
    "        self.relu = torch.nn.ReLU()\n",
    "        self.maxpool = torch.nn.MaxPool2d(kernel_size=3, padding=1, stride=2)\n",
    "        self.avgpool = torch.nn.AdaptiveAvgPool2d(output_size=(1, 1))\n",
    "\n",
    "        self.downsample1 = torch.nn.Sequential(torch.nn.Conv2d(16, 32, kernel_size=1),\n",
    "                                               torch.nn.BatchNorm2d(32, eps=1e-05, momentum=0.1, affine=True),\n",
    "                                               torch.nn.ReLU())\n",
    "        self.downsample2 = torch.nn.Sequential(torch.nn.Conv2d(32, 64, kernel_size=1),\n",
    "                                               torch.nn.BatchNorm2d(64, eps=1e-05, momentum=0.1, affine=True),\n",
    "                                               torch.nn.ReLU())\n",
    "        self.downsample3 = torch.nn.Sequential(torch.nn.Conv2d(64, 128, kernel_size=1),\n",
    "                                               torch.nn.BatchNorm2d(128, eps=1e-05, momentum=0.1, affine=True),\n",
    "                                               torch.nn.ReLU())\n",
    "\n",
    "        self.classifier = torch.nn.Sequential(\n",
    "            torch.nn.Dropout(p=0.5),\n",
    "            torch.nn.Linear(128, 256),\n",
    "            torch.nn.BatchNorm1d(256),\n",
    "            torch.nn.ReLU(inplace=True),\n",
    "            torch.nn.Dropout(p=0.5),\n",
    "            torch.nn.Linear(256, 256),\n",
    "            torch.nn.BatchNorm1d(256),\n",
    "            torch.nn.ReLU(inplace=True),\n",
    "            torch.nn.Dropout(p=0.5),\n",
    "            torch.nn.Linear(256, len(trainloader.dataset.classes)),\n",
    "            nn.LogSoftmax(dim=1)\n",
    "        )\n",
    "\n",
    "    def forward(self, x):\n",
    "        # print(x.shape)\n",
    "        # normalize image\n",
    "\n",
    "        mu = torch.mean(torch.mean(x, dim=2), dim=2).unsqueeze(-1).unsqueeze(-1)\n",
    "        sigma = torch.sqrt(torch.mean((x - mu) ** 2)) + 1e-8\n",
    "        x -= mu\n",
    "        x /= 4 * sigma\n",
    "\n",
    "        # print(\"image\", identity.shape)\n",
    "        res1 = self.master(x)\n",
    "\n",
    "        res2 = self.block1(res1)\n",
    "        res2 = res2 + self.downsample1(res1)\n",
    "        res2 = self.maxpool(res2)\n",
    "\n",
    "        res3 = self.block2(res2)\n",
    "        res3 = res3 + self.downsample2(res2)\n",
    "        res3 = self.maxpool(res3)\n",
    "\n",
    "        res4 = self.block3(res3)\n",
    "        # print(\"4 \", res4.shape ,self.downsample3(res3).shape )\n",
    "        res4 = res4 + self.downsample3(res3)\n",
    "\n",
    "        res = self.maxpool(res4)\n",
    "        # print(\"final shape : \", res.shape)\n",
    "        res = res.mean(dim=[2, 3])\n",
    "        res = self.classifier(res)\n",
    "        return res\n"
   ]
  },
  {
   "cell_type": "code",
   "execution_count": 4,
   "id": "supposed-coordinate",
   "metadata": {
    "execution": {
     "iopub.execute_input": "2021-06-05T13:18:21.033014Z",
     "iopub.status.busy": "2021-06-05T13:18:21.032200Z",
     "iopub.status.idle": "2021-06-05T13:18:23.111509Z",
     "shell.execute_reply": "2021-06-05T13:18:23.110724Z"
    },
    "papermill": {
     "duration": 2.109634,
     "end_time": "2021-06-05T13:18:23.111653",
     "exception": false,
     "start_time": "2021-06-05T13:18:21.002019",
     "status": "completed"
    },
    "tags": []
   },
   "outputs": [
    {
     "name": "stderr",
     "output_type": "stream",
     "text": [
      "Downloading: \"https://download.pytorch.org/models/mobilenet_v2-b0353104.pth\" to /root/.cache/torch/hub/checkpoints/mobilenet_v2-b0353104.pth\n"
     ]
    },
    {
     "data": {
      "application/vnd.jupyter.widget-view+json": {
       "model_id": "feb5fedcf2e048519d35e2bcbaf2c4a5",
       "version_major": 2,
       "version_minor": 0
      },
      "text/plain": [
       "  0%|          | 0.00/13.6M [00:00<?, ?B/s]"
      ]
     },
     "metadata": {},
     "output_type": "display_data"
    }
   ],
   "source": [
    "backbone = 'mobilenet_v2'\n",
    "addLayers = False\n",
    "if backbone == 'resnet50':\n",
    "    model = models.resnet50(pretrained=True)\n",
    "    for param in model.parameters():\n",
    "        param.requires_grad = False\n",
    "    if addLayers:\n",
    "        model.fc = nn.Sequential(nn.Linear(2048, 1024),\n",
    "          nn.ReLU(),\n",
    "          nn.Dropout(0.2),\n",
    "          nn.Linear(1024, len(trainloader.dataset.classes)),\n",
    "          nn.LogSoftmax(dim=1)\n",
    "          )\n",
    "    else:\n",
    "        model.fc = nn.Linear(2048, len(trainloader.dataset.classes))\n",
    "elif backbone == 'mobilenet_v2':\n",
    "    model = models.mobilenet_v2(pretrained=True)\n",
    "    for param in model.parameters():\n",
    "        param.requires_grad = False\n",
    "    if addLayers:\n",
    "        model.classifier = nn.Sequential(nn.Linear(1280, 1024),\n",
    "          nn.ReLU(),\n",
    "          nn.Dropout(0.2),\n",
    "          nn.Linear(1024, len(trainloader.dataset.classes)),\n",
    "          nn.LogSoftmax(dim=1)\n",
    "          )\n",
    "    else:\n",
    "        model.classifier = nn.Linear(1280, len(trainloader.dataset.classes))\n",
    "# print(model)"
   ]
  },
  {
   "cell_type": "markdown",
   "id": "dying-housing",
   "metadata": {
    "papermill": {
     "duration": 0.013622,
     "end_time": "2021-06-05T13:18:23.139357",
     "exception": false,
     "start_time": "2021-06-05T13:18:23.125735",
     "status": "completed"
    },
    "tags": []
   },
   "source": [
    "# Loss and Optimizer"
   ]
  },
  {
   "cell_type": "code",
   "execution_count": 5,
   "id": "secondary-knitting",
   "metadata": {
    "execution": {
     "iopub.execute_input": "2021-06-05T13:18:23.172005Z",
     "iopub.status.busy": "2021-06-05T13:18:23.171169Z",
     "iopub.status.idle": "2021-06-05T13:18:27.168044Z",
     "shell.execute_reply": "2021-06-05T13:18:27.167633Z",
     "shell.execute_reply.started": "2021-06-05T11:42:04.975623Z"
    },
    "papermill": {
     "duration": 4.014796,
     "end_time": "2021-06-05T13:18:27.168175",
     "exception": false,
     "start_time": "2021-06-05T13:18:23.153379",
     "status": "completed"
    },
    "tags": []
   },
   "outputs": [
    {
     "data": {
      "text/plain": [
       "CNNClassifier(\n",
       "  (master): Sequential(\n",
       "    (0): Conv2d(3, 16, kernel_size=(7, 7), stride=(2, 2), padding=(3, 3))\n",
       "    (1): ReLU()\n",
       "    (2): MaxPool2d(kernel_size=3, stride=2, padding=1, dilation=1, ceil_mode=False)\n",
       "  )\n",
       "  (block1): Sequential(\n",
       "    (0): Conv2d(16, 16, kernel_size=(3, 3), stride=(1, 1), padding=(1, 1))\n",
       "    (1): BatchNorm2d(16, eps=1e-05, momentum=0.1, affine=True, track_running_stats=True)\n",
       "    (2): ReLU()\n",
       "    (3): Conv2d(16, 32, kernel_size=(3, 3), stride=(1, 1), padding=(1, 1))\n",
       "    (4): BatchNorm2d(32, eps=1e-05, momentum=0.1, affine=True, track_running_stats=True)\n",
       "    (5): ReLU()\n",
       "  )\n",
       "  (block2): Sequential(\n",
       "    (0): Conv2d(32, 32, kernel_size=(3, 3), stride=(1, 1), padding=(1, 1))\n",
       "    (1): BatchNorm2d(32, eps=1e-05, momentum=0.1, affine=True, track_running_stats=True)\n",
       "    (2): ReLU()\n",
       "    (3): Conv2d(32, 64, kernel_size=(3, 3), stride=(1, 1), padding=(1, 1))\n",
       "    (4): BatchNorm2d(64, eps=1e-05, momentum=0.1, affine=True, track_running_stats=True)\n",
       "    (5): ReLU()\n",
       "  )\n",
       "  (block3): Sequential(\n",
       "    (0): Conv2d(64, 64, kernel_size=(3, 3), stride=(1, 1), padding=(1, 1))\n",
       "    (1): BatchNorm2d(64, eps=1e-05, momentum=0.1, affine=True, track_running_stats=True)\n",
       "    (2): ReLU()\n",
       "    (3): Conv2d(64, 128, kernel_size=(3, 3), stride=(1, 1), padding=(1, 1))\n",
       "    (4): BatchNorm2d(128, eps=1e-05, momentum=0.1, affine=True, track_running_stats=True)\n",
       "    (5): ReLU()\n",
       "  )\n",
       "  (relu): ReLU()\n",
       "  (maxpool): MaxPool2d(kernel_size=3, stride=2, padding=1, dilation=1, ceil_mode=False)\n",
       "  (avgpool): AdaptiveAvgPool2d(output_size=(1, 1))\n",
       "  (downsample1): Sequential(\n",
       "    (0): Conv2d(16, 32, kernel_size=(1, 1), stride=(1, 1))\n",
       "    (1): BatchNorm2d(32, eps=1e-05, momentum=0.1, affine=True, track_running_stats=True)\n",
       "    (2): ReLU()\n",
       "  )\n",
       "  (downsample2): Sequential(\n",
       "    (0): Conv2d(32, 64, kernel_size=(1, 1), stride=(1, 1))\n",
       "    (1): BatchNorm2d(64, eps=1e-05, momentum=0.1, affine=True, track_running_stats=True)\n",
       "    (2): ReLU()\n",
       "  )\n",
       "  (downsample3): Sequential(\n",
       "    (0): Conv2d(64, 128, kernel_size=(1, 1), stride=(1, 1))\n",
       "    (1): BatchNorm2d(128, eps=1e-05, momentum=0.1, affine=True, track_running_stats=True)\n",
       "    (2): ReLU()\n",
       "  )\n",
       "  (classifier): Sequential(\n",
       "    (0): Dropout(p=0.5, inplace=False)\n",
       "    (1): Linear(in_features=128, out_features=256, bias=True)\n",
       "    (2): BatchNorm1d(256, eps=1e-05, momentum=0.1, affine=True, track_running_stats=True)\n",
       "    (3): ReLU(inplace=True)\n",
       "    (4): Dropout(p=0.5, inplace=False)\n",
       "    (5): Linear(in_features=256, out_features=256, bias=True)\n",
       "    (6): BatchNorm1d(256, eps=1e-05, momentum=0.1, affine=True, track_running_stats=True)\n",
       "    (7): ReLU(inplace=True)\n",
       "    (8): Dropout(p=0.5, inplace=False)\n",
       "    (9): Linear(in_features=256, out_features=29, bias=True)\n",
       "    (10): LogSoftmax(dim=1)\n",
       "  )\n",
       ")"
      ]
     },
     "execution_count": 5,
     "metadata": {},
     "output_type": "execute_result"
    }
   ],
   "source": [
    "#criterion = nn.NLLLoss()\n",
    "model = CNNClassifier()\n",
    "learning_rate = 0.001\n",
    "criterion = nn.CrossEntropyLoss()\n",
    "optimizer = torch.optim.SGD(model.parameters(), lr=1e-2, momentum=0.9, weight_decay=1e-5)\n",
    "\n",
    "# optimizer = optim.Adam(model.classifier.parameters(), lr=learning_rate)\n",
    "model.to(device)"
   ]
  },
  {
   "cell_type": "markdown",
   "id": "empty-temperature",
   "metadata": {
    "papermill": {
     "duration": 0.014039,
     "end_time": "2021-06-05T13:18:27.196380",
     "exception": false,
     "start_time": "2021-06-05T13:18:27.182341",
     "status": "completed"
    },
    "tags": []
   },
   "source": [
    "# Model Training"
   ]
  },
  {
   "cell_type": "code",
   "execution_count": 6,
   "id": "mineral-porcelain",
   "metadata": {
    "execution": {
     "iopub.execute_input": "2021-06-05T13:18:27.228204Z",
     "iopub.status.busy": "2021-06-05T13:18:27.227508Z",
     "iopub.status.idle": "2021-06-05T13:18:27.230293Z",
     "shell.execute_reply": "2021-06-05T13:18:27.229864Z",
     "shell.execute_reply.started": "2021-06-05T12:09:58.185151Z"
    },
    "papermill": {
     "duration": 0.020079,
     "end_time": "2021-06-05T13:18:27.230395",
     "exception": false,
     "start_time": "2021-06-05T13:18:27.210316",
     "status": "completed"
    },
    "tags": []
   },
   "outputs": [],
   "source": [
    "epochs = 10\n",
    "running_loss = 0\n",
    "train_losses, test_losses = [], []\n",
    "min_val_loss = None\n",
    "name = ''"
   ]
  },
  {
   "cell_type": "code",
   "execution_count": 7,
   "id": "freelance-shakespeare",
   "metadata": {
    "execution": {
     "iopub.execute_input": "2021-06-05T13:18:27.272468Z",
     "iopub.status.busy": "2021-06-05T13:18:27.271859Z",
     "iopub.status.idle": "2021-06-05T14:31:50.185020Z",
     "shell.execute_reply": "2021-06-05T14:31:50.184571Z",
     "shell.execute_reply.started": "2021-06-05T12:10:00.117810Z"
    },
    "papermill": {
     "duration": 4402.940377,
     "end_time": "2021-06-05T14:31:50.185146",
     "exception": false,
     "start_time": "2021-06-05T13:18:27.244769",
     "status": "completed"
    },
    "tags": []
   },
   "outputs": [
    {
     "name": "stderr",
     "output_type": "stream",
     "text": [
      "Training Epoch 1: 100%|██████████| 2230/2230 [08:37<00:00,  4.31batch/s, accuracy=45.3, loss=1.63]\n",
      "Testing Epoch 1: 100%|██████████| 490/490 [01:48<00:00,  4.50batch/s, accuracy=77.6, loss=0.602]\n",
      "Training Epoch 2: 100%|██████████| 2230/2230 [05:46<00:00,  6.43batch/s, accuracy=81.5, loss=0.526]\n",
      "Testing Epoch 2: 100%|██████████| 490/490 [01:05<00:00,  7.53batch/s, accuracy=95.3, loss=0.14]\n",
      "Training Epoch 3: 100%|██████████| 2230/2230 [05:55<00:00,  6.28batch/s, accuracy=90.8, loss=0.275]\n",
      "Testing Epoch 3: 100%|██████████| 490/490 [01:03<00:00,  7.66batch/s, accuracy=97.3, loss=0.0836]\n",
      "Training Epoch 4: 100%|██████████| 2230/2230 [05:48<00:00,  6.40batch/s, accuracy=94.7, loss=0.165]\n",
      "Testing Epoch 4: 100%|██████████| 490/490 [01:03<00:00,  7.68batch/s, accuracy=98.5, loss=0.0419]\n",
      "Training Epoch 5: 100%|██████████| 2230/2230 [05:55<00:00,  6.26batch/s, accuracy=96.3, loss=0.116]\n",
      "Testing Epoch 5: 100%|██████████| 490/490 [01:04<00:00,  7.55batch/s, accuracy=99.6, loss=0.0147]\n",
      "Training Epoch 6: 100%|██████████| 2230/2230 [05:51<00:00,  6.34batch/s, accuracy=97.1, loss=0.0957]\n",
      "Testing Epoch 6: 100%|██████████| 490/490 [01:02<00:00,  7.87batch/s, accuracy=99.6, loss=0.0118]\n",
      "Training Epoch 7: 100%|██████████| 2230/2230 [06:02<00:00,  6.15batch/s, accuracy=97.8, loss=0.0739]\n",
      "Testing Epoch 7: 100%|██████████| 490/490 [01:03<00:00,  7.78batch/s, accuracy=99.5, loss=0.0143]\n",
      "Training Epoch 8: 100%|██████████| 2230/2230 [05:58<00:00,  6.23batch/s, accuracy=98, loss=0.0687]\n",
      "Testing Epoch 8: 100%|██████████| 490/490 [01:02<00:00,  7.82batch/s, accuracy=99.8, loss=0.00554]\n",
      "Training Epoch 9: 100%|██████████| 2230/2230 [06:09<00:00,  6.04batch/s, accuracy=98.3, loss=0.057]\n",
      "Testing Epoch 9: 100%|██████████| 490/490 [01:02<00:00,  7.87batch/s, accuracy=99.8, loss=0.00567]\n",
      "Training Epoch 10: 100%|██████████| 2230/2230 [05:56<00:00,  6.26batch/s, accuracy=98.5, loss=0.0484]\n",
      "Testing Epoch 10: 100%|██████████| 490/490 [01:04<00:00,  7.65batch/s, accuracy=99.5, loss=0.0153]\n"
     ]
    }
   ],
   "source": [
    "for epoch in range(epochs):\n",
    "    with tqdm(trainloader, unit=\"batch\") as tepoch:\n",
    "        accuracy = 0\n",
    "        for i, data in enumerate(tepoch):\n",
    "            inputs, labels = data\n",
    "            tepoch.set_description(f\"Training Epoch {epoch + 1}\")\n",
    "            inputs, labels = inputs.to(device), labels.to(device)\n",
    "            size = labels.shape[0]\n",
    "            optimizer.zero_grad()\n",
    "            logps = model.forward(inputs)\n",
    "            # print(torch.argmax(logps, dim=1).shape, labels.shape)\n",
    "            loss = criterion(logps, labels)\n",
    "            train_acc = torch.sum(torch.argmax(logps, dim=1) == labels).item() / size\n",
    "            accuracy += train_acc\n",
    "            loss.backward()\n",
    "\n",
    "            optimizer.step()\n",
    "            running_loss += loss.item()\n",
    "\n",
    "            tepoch.set_postfix(loss=loss.item(), accuracy=100. * train_acc)\n",
    "            sleep(0.005)\n",
    "            if i == len(trainloader)-1:\n",
    "                accuracy = accuracy / len(trainloader)\n",
    "                tepoch.set_postfix(loss=running_loss/len(trainloader), accuracy=100. * accuracy)\n",
    "    test_loss = 0\n",
    "    accuracy = 0\n",
    "    model.eval()\n",
    "    with torch.no_grad():\n",
    "        with tqdm(testloader, unit=\"batch\") as tepoch:\n",
    "            for i, data in enumerate(tepoch):\n",
    "                (inputs, labels) = data\n",
    "                tepoch.set_description(f\"Testing Epoch {epoch + 1}\")\n",
    "                inputs, labels = inputs.to(device), labels.to(device)\n",
    "                size = labels.shape[0]\n",
    "                logps = model.forward(inputs)\n",
    "                batch_loss = criterion(logps, labels)\n",
    "                test_loss += batch_loss.item()\n",
    "\n",
    "                test_acc = torch.sum(torch.argmax(logps, dim=1) == labels).item() / size\n",
    "                accuracy += test_acc\n",
    "                tepoch.set_postfix(loss=batch_loss.item(), accuracy=100. * test_acc)\n",
    "                # tepoch.set_postfix(loss=batch_loss.item())\n",
    "                sleep(0.005)\n",
    "                if i == len(testloader)-1:\n",
    "                        accuracy = accuracy / len(testloader)\n",
    "                        tepoch.set_postfix(loss=test_loss/len(testloader), accuracy=100. * accuracy)\n",
    "\n",
    "    val_loss = test_loss/len(testloader)\n",
    "    if min_val_loss is None:\n",
    "        min_val_loss = val_loss\n",
    "        name = 'sl_recognition_{}_{}_{}.pth'.format(str(epoch + 1), str(round(val_loss, 3)), str(round(accuracy, 3)))\n",
    "        torch.save(model, name)\n",
    "    elif min_val_loss > val_loss:\n",
    "        min_val_loss = val_loss\n",
    "        name = 'sl_recognition_{}_{}_{}.pth'.format(str(epoch + 1), str(round(val_loss, 3)), str(round(accuracy, 3)))\n",
    "        torch.save(model, name)\n",
    "\n",
    "    running_loss = 0\n",
    "    model.train()\n",
    "torch.save(model, 'final_sl.pth')"
   ]
  },
  {
   "cell_type": "code",
   "execution_count": 8,
   "id": "referenced-carter",
   "metadata": {
    "execution": {
     "iopub.execute_input": "2021-06-05T14:32:32.996115Z",
     "iopub.status.busy": "2021-06-05T14:32:32.995305Z",
     "iopub.status.idle": "2021-06-05T14:32:32.998008Z",
     "shell.execute_reply": "2021-06-05T14:32:32.997609Z",
     "shell.execute_reply.started": "2021-06-05T13:11:56.345815Z"
    },
    "papermill": {
     "duration": 21.310779,
     "end_time": "2021-06-05T14:32:32.998124",
     "exception": false,
     "start_time": "2021-06-05T14:32:11.687345",
     "status": "completed"
    },
    "tags": []
   },
   "outputs": [],
   "source": [
    "with open('classes.txt', 'w') as f:\n",
    "    for clas in trainloader.dataset.classes:\n",
    "        f.write(clas+'\\n')"
   ]
  },
  {
   "cell_type": "code",
   "execution_count": 9,
   "id": "built-tension",
   "metadata": {
    "execution": {
     "iopub.execute_input": "2021-06-05T14:33:15.544917Z",
     "iopub.status.busy": "2021-06-05T14:33:15.544054Z",
     "iopub.status.idle": "2021-06-05T14:33:15.977732Z",
     "shell.execute_reply": "2021-06-05T14:33:15.978357Z",
     "shell.execute_reply.started": "2021-06-05T13:12:07.658346Z"
    },
    "papermill": {
     "duration": 21.883502,
     "end_time": "2021-06-05T14:33:15.978554",
     "exception": false,
     "start_time": "2021-06-05T14:32:54.095052",
     "status": "completed"
    },
    "tags": []
   },
   "outputs": [
    {
     "name": "stderr",
     "output_type": "stream",
     "text": [
      "/opt/conda/lib/python3.7/site-packages/torch/onnx/symbolic_opset9.py:1708: UserWarning: ONNX export unsqueeze with negative axis -1 might cause the onnx model to be incorrect. Negative axis is not supported in ONNX. Axis is converted to 2 based on input shape at export time. Passing an tensor of different rank in execution will be incorrect.\n",
      "  \"Passing an tensor of different rank in execution will be incorrect.\")\n",
      "/opt/conda/lib/python3.7/site-packages/torch/onnx/symbolic_opset9.py:1708: UserWarning: ONNX export unsqueeze with negative axis -1 might cause the onnx model to be incorrect. Negative axis is not supported in ONNX. Axis is converted to 3 based on input shape at export time. Passing an tensor of different rank in execution will be incorrect.\n",
      "  \"Passing an tensor of different rank in execution will be incorrect.\")\n"
     ]
    },
    {
     "name": "stdout",
     "output_type": "stream",
     "text": [
      "graph(%0 : Float(1:150528, 3:50176, 224:224, 224:1, requires_grad=0, device=cpu),\n",
      "      %master.0.weight : Float(16:147, 3:49, 7:7, 7:1, requires_grad=1, device=cpu),\n",
      "      %master.0.bias : Float(16:1, requires_grad=1, device=cpu),\n",
      "      %classifier.1.weight : Float(256:128, 128:1, requires_grad=1, device=cpu),\n",
      "      %classifier.1.bias : Float(256:1, requires_grad=1, device=cpu),\n",
      "      %classifier.2.weight : Float(256:1, requires_grad=1, device=cpu),\n",
      "      %classifier.2.bias : Float(256:1, requires_grad=1, device=cpu),\n",
      "      %classifier.2.running_mean : Float(256:1, requires_grad=0, device=cpu),\n",
      "      %classifier.2.running_var : Float(256:1, requires_grad=0, device=cpu),\n",
      "      %classifier.5.weight : Float(256:256, 256:1, requires_grad=1, device=cpu),\n",
      "      %classifier.5.bias : Float(256:1, requires_grad=1, device=cpu),\n",
      "      %classifier.6.weight : Float(256:1, requires_grad=1, device=cpu),\n",
      "      %classifier.6.bias : Float(256:1, requires_grad=1, device=cpu),\n",
      "      %classifier.6.running_mean : Float(256:1, requires_grad=0, device=cpu),\n",
      "      %classifier.6.running_var : Float(256:1, requires_grad=0, device=cpu),\n",
      "      %classifier.9.weight : Float(29:256, 256:1, requires_grad=1, device=cpu),\n",
      "      %classifier.9.bias : Float(29:1, requires_grad=1, device=cpu),\n",
      "      %144 : Float(16:144, 16:9, 3:3, 3:1, requires_grad=0, device=cpu),\n",
      "      %145 : Float(16:1, requires_grad=0, device=cpu),\n",
      "      %147 : Float(32:144, 16:9, 3:3, 3:1, requires_grad=0, device=cpu),\n",
      "      %148 : Float(32:1, requires_grad=0, device=cpu),\n",
      "      %150 : Float(32:16, 16:1, 1:1, 1:1, requires_grad=0, device=cpu),\n",
      "      %151 : Float(32:1, requires_grad=0, device=cpu),\n",
      "      %153 : Float(32:288, 32:9, 3:3, 3:1, requires_grad=0, device=cpu),\n",
      "      %154 : Float(32:1, requires_grad=0, device=cpu),\n",
      "      %156 : Float(64:288, 32:9, 3:3, 3:1, requires_grad=0, device=cpu),\n",
      "      %157 : Float(64:1, requires_grad=0, device=cpu),\n",
      "      %159 : Float(64:32, 32:1, 1:1, 1:1, requires_grad=0, device=cpu),\n",
      "      %160 : Float(64:1, requires_grad=0, device=cpu),\n",
      "      %162 : Float(64:576, 64:9, 3:3, 3:1, requires_grad=0, device=cpu),\n",
      "      %163 : Float(64:1, requires_grad=0, device=cpu),\n",
      "      %165 : Float(128:576, 64:9, 3:3, 3:1, requires_grad=0, device=cpu),\n",
      "      %166 : Float(128:1, requires_grad=0, device=cpu),\n",
      "      %168 : Float(128:64, 64:1, 1:1, 1:1, requires_grad=0, device=cpu),\n",
      "      %169 : Float(128:1, requires_grad=0, device=cpu),\n",
      "      %170 : Float(requires_grad=0, device=cpu)):\n",
      "  %82 : Float(1:672, 3:224, 224:1, requires_grad=0, device=cpu) = onnx::ReduceMean[axes=[2], keepdims=0](%0) # <ipython-input-3-5e22e13578e8>:66:0\n",
      "  %83 : Float(1:3, 3:1, requires_grad=0, device=cpu) = onnx::ReduceMean[axes=[2], keepdims=0](%82) # <ipython-input-3-5e22e13578e8>:66:0\n",
      "  %84 : Float(1:3, 3:1, 1:1, requires_grad=0, device=cpu) = onnx::Unsqueeze[axes=[2]](%83) # <ipython-input-3-5e22e13578e8>:66:0\n",
      "  %85 : Float(1:3, 3:1, 1:1, 1:1, requires_grad=0, device=cpu) = onnx::Unsqueeze[axes=[3]](%84) # <ipython-input-3-5e22e13578e8>:66:0\n",
      "  %86 : Float(1:150528, 3:50176, 224:224, 224:1, requires_grad=0, device=cpu) = onnx::Sub(%0, %85) # <ipython-input-3-5e22e13578e8>:67:0\n",
      "  %89 : Float(1:150528, 3:50176, 224:224, 224:1, requires_grad=0, device=cpu) = onnx::Pow(%86, %170) # <ipython-input-3-5e22e13578e8>:67:0\n",
      "  %90 : Float(requires_grad=0, device=cpu) = onnx::ReduceMean[keepdims=0](%89) # <ipython-input-3-5e22e13578e8>:67:0\n",
      "  %91 : Float(requires_grad=0, device=cpu) = onnx::Sqrt(%90) # <ipython-input-3-5e22e13578e8>:67:0\n",
      "  %92 : Float(requires_grad=0, device=cpu) = onnx::Constant[value={1e-08}]()\n",
      "  %93 : Float(requires_grad=0, device=cpu) = onnx::Add(%91, %92)\n",
      "  %94 : Float(1:150528, 3:50176, 224:224, 224:1, requires_grad=0, device=cpu) = onnx::Sub(%0, %85)\n",
      "  %95 : Float(requires_grad=0, device=cpu) = onnx::Constant[value={4}]()\n",
      "  %96 : Float(requires_grad=0, device=cpu) = onnx::Mul(%93, %95)\n",
      "  %97 : Float(1:150528, 3:50176, 224:224, 224:1, requires_grad=0, device=cpu) = onnx::Div(%94, %96)\n",
      "  %98 : Float(1:200704, 16:12544, 112:112, 112:1, requires_grad=1, device=cpu) = onnx::Conv[dilations=[1, 1], group=1, kernel_shape=[7, 7], pads=[3, 3, 3, 3], strides=[2, 2]](%97, %master.0.weight, %master.0.bias) # /opt/conda/lib/python3.7/site-packages/torch/nn/modules/conv.py:420:0\n",
      "  %99 : Float(1:200704, 16:12544, 112:112, 112:1, requires_grad=1, device=cpu) = onnx::Relu(%98) # /opt/conda/lib/python3.7/site-packages/torch/nn/functional.py:1136:0\n",
      "  %100 : Float(1:50176, 16:3136, 56:56, 56:1, requires_grad=1, device=cpu) = onnx::MaxPool[kernel_shape=[3, 3], pads=[1, 1, 1, 1], strides=[2, 2]](%99) # /opt/conda/lib/python3.7/site-packages/torch/nn/functional.py:586:0\n",
      "  %143 : Float(1:50176, 16:3136, 56:56, 56:1, requires_grad=1, device=cpu) = onnx::Conv[dilations=[1, 1], group=1, kernel_shape=[3, 3], pads=[1, 1, 1, 1], strides=[1, 1]](%100, %144, %145)\n",
      "  %103 : Float(1:50176, 16:3136, 56:56, 56:1, requires_grad=1, device=cpu) = onnx::Relu(%143) # /opt/conda/lib/python3.7/site-packages/torch/nn/functional.py:1136:0\n",
      "  %146 : Float(1:100352, 32:3136, 56:56, 56:1, requires_grad=1, device=cpu) = onnx::Conv[dilations=[1, 1], group=1, kernel_shape=[3, 3], pads=[1, 1, 1, 1], strides=[1, 1]](%103, %147, %148)\n",
      "  %106 : Float(1:100352, 32:3136, 56:56, 56:1, requires_grad=1, device=cpu) = onnx::Relu(%146) # /opt/conda/lib/python3.7/site-packages/torch/nn/functional.py:1136:0\n",
      "  %149 : Float(1:100352, 32:3136, 56:56, 56:1, requires_grad=1, device=cpu) = onnx::Conv[dilations=[1, 1], group=1, kernel_shape=[1, 1], pads=[0, 0, 0, 0], strides=[1, 1]](%100, %150, %151)\n",
      "  %109 : Float(1:100352, 32:3136, 56:56, 56:1, requires_grad=1, device=cpu) = onnx::Relu(%149) # /opt/conda/lib/python3.7/site-packages/torch/nn/functional.py:1136:0\n",
      "  %110 : Float(1:100352, 32:3136, 56:56, 56:1, requires_grad=1, device=cpu) = onnx::Add(%106, %109) # <ipython-input-3-5e22e13578e8>:75:0\n",
      "  %111 : Float(1:25088, 32:784, 28:28, 28:1, requires_grad=1, device=cpu) = onnx::MaxPool[kernel_shape=[3, 3], pads=[1, 1, 1, 1], strides=[2, 2]](%110) # /opt/conda/lib/python3.7/site-packages/torch/nn/functional.py:586:0\n",
      "  %152 : Float(1:25088, 32:784, 28:28, 28:1, requires_grad=1, device=cpu) = onnx::Conv[dilations=[1, 1], group=1, kernel_shape=[3, 3], pads=[1, 1, 1, 1], strides=[1, 1]](%111, %153, %154)\n",
      "  %114 : Float(1:25088, 32:784, 28:28, 28:1, requires_grad=1, device=cpu) = onnx::Relu(%152) # /opt/conda/lib/python3.7/site-packages/torch/nn/functional.py:1136:0\n",
      "  %155 : Float(1:50176, 64:784, 28:28, 28:1, requires_grad=1, device=cpu) = onnx::Conv[dilations=[1, 1], group=1, kernel_shape=[3, 3], pads=[1, 1, 1, 1], strides=[1, 1]](%114, %156, %157)\n",
      "  %117 : Float(1:50176, 64:784, 28:28, 28:1, requires_grad=1, device=cpu) = onnx::Relu(%155) # /opt/conda/lib/python3.7/site-packages/torch/nn/functional.py:1136:0\n",
      "  %158 : Float(1:50176, 64:784, 28:28, 28:1, requires_grad=1, device=cpu) = onnx::Conv[dilations=[1, 1], group=1, kernel_shape=[1, 1], pads=[0, 0, 0, 0], strides=[1, 1]](%111, %159, %160)\n",
      "  %120 : Float(1:50176, 64:784, 28:28, 28:1, requires_grad=1, device=cpu) = onnx::Relu(%158) # /opt/conda/lib/python3.7/site-packages/torch/nn/functional.py:1136:0\n",
      "  %121 : Float(1:50176, 64:784, 28:28, 28:1, requires_grad=1, device=cpu) = onnx::Add(%117, %120) # <ipython-input-3-5e22e13578e8>:79:0\n",
      "  %122 : Float(1:12544, 64:196, 14:14, 14:1, requires_grad=1, device=cpu) = onnx::MaxPool[kernel_shape=[3, 3], pads=[1, 1, 1, 1], strides=[2, 2]](%121) # /opt/conda/lib/python3.7/site-packages/torch/nn/functional.py:586:0\n",
      "  %161 : Float(1:12544, 64:196, 14:14, 14:1, requires_grad=1, device=cpu) = onnx::Conv[dilations=[1, 1], group=1, kernel_shape=[3, 3], pads=[1, 1, 1, 1], strides=[1, 1]](%122, %162, %163)\n",
      "  %125 : Float(1:12544, 64:196, 14:14, 14:1, requires_grad=1, device=cpu) = onnx::Relu(%161) # /opt/conda/lib/python3.7/site-packages/torch/nn/functional.py:1136:0\n",
      "  %164 : Float(1:25088, 128:196, 14:14, 14:1, requires_grad=1, device=cpu) = onnx::Conv[dilations=[1, 1], group=1, kernel_shape=[3, 3], pads=[1, 1, 1, 1], strides=[1, 1]](%125, %165, %166)\n",
      "  %128 : Float(1:25088, 128:196, 14:14, 14:1, requires_grad=1, device=cpu) = onnx::Relu(%164) # /opt/conda/lib/python3.7/site-packages/torch/nn/functional.py:1136:0\n",
      "  %167 : Float(1:25088, 128:196, 14:14, 14:1, requires_grad=1, device=cpu) = onnx::Conv[dilations=[1, 1], group=1, kernel_shape=[1, 1], pads=[0, 0, 0, 0], strides=[1, 1]](%122, %168, %169)\n",
      "  %131 : Float(1:25088, 128:196, 14:14, 14:1, requires_grad=1, device=cpu) = onnx::Relu(%167) # /opt/conda/lib/python3.7/site-packages/torch/nn/functional.py:1136:0\n",
      "  %132 : Float(1:25088, 128:196, 14:14, 14:1, requires_grad=1, device=cpu) = onnx::Add(%128, %131) # <ipython-input-3-5e22e13578e8>:84:0\n",
      "  %133 : Float(1:6272, 128:49, 7:7, 7:1, requires_grad=1, device=cpu) = onnx::MaxPool[kernel_shape=[3, 3], pads=[1, 1, 1, 1], strides=[2, 2]](%132) # /opt/conda/lib/python3.7/site-packages/torch/nn/functional.py:586:0\n",
      "  %134 : Float(1:128, 128:1, requires_grad=1, device=cpu) = onnx::ReduceMean[axes=[2, 3], keepdims=0](%133) # /opt/conda/lib/python3.7/site-packages/torch/nn/functional.py:983:0\n",
      "  %135 : Float(1:256, 256:1, requires_grad=1, device=cpu) = onnx::Gemm[alpha=1., beta=1., transB=1](%134, %classifier.1.weight, %classifier.1.bias) # /opt/conda/lib/python3.7/site-packages/torch/nn/functional.py:1690:0\n",
      "  %136 : Float(1:256, 256:1, requires_grad=1, device=cpu) = onnx::BatchNormalization[epsilon=1.0000000000000001e-05, momentum=0.90000000000000002](%135, %classifier.2.weight, %classifier.2.bias, %classifier.2.running_mean, %classifier.2.running_var) # /opt/conda/lib/python3.7/site-packages/torch/nn/functional.py:2058:0\n",
      "  %137 : Float(1:256, 256:1, requires_grad=1, device=cpu) = onnx::Relu(%136) # /opt/conda/lib/python3.7/site-packages/torch/nn/functional.py:983:0\n",
      "  %138 : Float(1:256, 256:1, requires_grad=1, device=cpu) = onnx::Gemm[alpha=1., beta=1., transB=1](%137, %classifier.5.weight, %classifier.5.bias) # /opt/conda/lib/python3.7/site-packages/torch/nn/functional.py:1690:0\n",
      "  %139 : Float(1:256, 256:1, requires_grad=1, device=cpu) = onnx::BatchNormalization[epsilon=1.0000000000000001e-05, momentum=0.90000000000000002](%138, %classifier.6.weight, %classifier.6.bias, %classifier.6.running_mean, %classifier.6.running_var) # /opt/conda/lib/python3.7/site-packages/torch/nn/functional.py:2058:0\n",
      "  %140 : Float(1:256, 256:1, requires_grad=1, device=cpu) = onnx::Relu(%139) # /opt/conda/lib/python3.7/site-packages/torch/nn/functional.py:983:0\n",
      "  %141 : Float(1:29, 29:1, requires_grad=1, device=cpu) = onnx::Gemm[alpha=1., beta=1., transB=1](%140, %classifier.9.weight, %classifier.9.bias) # /opt/conda/lib/python3.7/site-packages/torch/nn/functional.py:1690:0\n",
      "  %142 : Float(1:29, 29:1, requires_grad=1, device=cpu) = onnx::LogSoftmax[axis=1](%141) # /opt/conda/lib/python3.7/site-packages/torch/nn/functional.py:1605:0\n",
      "  return (%142)\n",
      "\n"
     ]
    }
   ],
   "source": [
    "onnx_model_path = \"sl.onnx\"\n",
    "model = torch.load(name)\n",
    "model.to(\"cpu\")\n",
    "model.eval()\n",
    "dummy_input = torch.randn(1, 3, 224, 224)\n",
    "torch.onnx.export(model, dummy_input, onnx_model_path, verbose=True)"
   ]
  },
  {
   "cell_type": "markdown",
   "id": "acceptable-sitting",
   "metadata": {
    "papermill": {
     "duration": 20.90779,
     "end_time": "2021-06-05T14:33:58.175679",
     "exception": false,
     "start_time": "2021-06-05T14:33:37.267889",
     "status": "completed"
    },
    "tags": []
   },
   "source": [
    "# Generate Classes.txt"
   ]
  },
  {
   "cell_type": "code",
   "execution_count": 10,
   "id": "desirable-trace",
   "metadata": {
    "execution": {
     "iopub.execute_input": "2021-06-05T14:34:41.138377Z",
     "iopub.status.busy": "2021-06-05T14:34:41.137747Z",
     "iopub.status.idle": "2021-06-05T14:34:41.140716Z",
     "shell.execute_reply": "2021-06-05T14:34:41.140302Z"
    },
    "papermill": {
     "duration": 21.453451,
     "end_time": "2021-06-05T14:34:41.140832",
     "exception": false,
     "start_time": "2021-06-05T14:34:19.687381",
     "status": "completed"
    },
    "tags": []
   },
   "outputs": [],
   "source": [
    "with open('classes.txt', 'w') as f:\n",
    "    for clas in trainloader.dataset.classes:\n",
    "        f.write(clas+'\\n')"
   ]
  },
  {
   "cell_type": "markdown",
   "id": "historical-cutting",
   "metadata": {
    "papermill": {
     "duration": 21.459997,
     "end_time": "2021-06-05T14:35:23.440422",
     "exception": false,
     "start_time": "2021-06-05T14:35:01.980425",
     "status": "completed"
    },
    "tags": []
   },
   "source": [
    "# Convert to onnx"
   ]
  },
  {
   "cell_type": "code",
   "execution_count": 11,
   "id": "hourly-produce",
   "metadata": {
    "execution": {
     "iopub.execute_input": "2021-06-05T14:36:05.800190Z",
     "iopub.status.busy": "2021-06-05T14:36:05.799446Z",
     "iopub.status.idle": "2021-06-05T14:36:06.089871Z",
     "shell.execute_reply": "2021-06-05T14:36:06.090299Z"
    },
    "papermill": {
     "duration": 21.746327,
     "end_time": "2021-06-05T14:36:06.090461",
     "exception": false,
     "start_time": "2021-06-05T14:35:44.344134",
     "status": "completed"
    },
    "tags": []
   },
   "outputs": [
    {
     "name": "stdout",
     "output_type": "stream",
     "text": [
      "graph(%0 : Float(1:150528, 3:50176, 224:224, 224:1, requires_grad=0, device=cpu),\n",
      "      %master.0.weight : Float(16:147, 3:49, 7:7, 7:1, requires_grad=1, device=cpu),\n",
      "      %master.0.bias : Float(16:1, requires_grad=1, device=cpu),\n",
      "      %classifier.1.weight : Float(256:128, 128:1, requires_grad=1, device=cpu),\n",
      "      %classifier.1.bias : Float(256:1, requires_grad=1, device=cpu),\n",
      "      %classifier.2.weight : Float(256:1, requires_grad=1, device=cpu),\n",
      "      %classifier.2.bias : Float(256:1, requires_grad=1, device=cpu),\n",
      "      %classifier.2.running_mean : Float(256:1, requires_grad=0, device=cpu),\n",
      "      %classifier.2.running_var : Float(256:1, requires_grad=0, device=cpu),\n",
      "      %classifier.5.weight : Float(256:256, 256:1, requires_grad=1, device=cpu),\n",
      "      %classifier.5.bias : Float(256:1, requires_grad=1, device=cpu),\n",
      "      %classifier.6.weight : Float(256:1, requires_grad=1, device=cpu),\n",
      "      %classifier.6.bias : Float(256:1, requires_grad=1, device=cpu),\n",
      "      %classifier.6.running_mean : Float(256:1, requires_grad=0, device=cpu),\n",
      "      %classifier.6.running_var : Float(256:1, requires_grad=0, device=cpu),\n",
      "      %classifier.9.weight : Float(29:256, 256:1, requires_grad=1, device=cpu),\n",
      "      %classifier.9.bias : Float(29:1, requires_grad=1, device=cpu),\n",
      "      %144 : Float(16:144, 16:9, 3:3, 3:1, requires_grad=0, device=cpu),\n",
      "      %145 : Float(16:1, requires_grad=0, device=cpu),\n",
      "      %147 : Float(32:144, 16:9, 3:3, 3:1, requires_grad=0, device=cpu),\n",
      "      %148 : Float(32:1, requires_grad=0, device=cpu),\n",
      "      %150 : Float(32:16, 16:1, 1:1, 1:1, requires_grad=0, device=cpu),\n",
      "      %151 : Float(32:1, requires_grad=0, device=cpu),\n",
      "      %153 : Float(32:288, 32:9, 3:3, 3:1, requires_grad=0, device=cpu),\n",
      "      %154 : Float(32:1, requires_grad=0, device=cpu),\n",
      "      %156 : Float(64:288, 32:9, 3:3, 3:1, requires_grad=0, device=cpu),\n",
      "      %157 : Float(64:1, requires_grad=0, device=cpu),\n",
      "      %159 : Float(64:32, 32:1, 1:1, 1:1, requires_grad=0, device=cpu),\n",
      "      %160 : Float(64:1, requires_grad=0, device=cpu),\n",
      "      %162 : Float(64:576, 64:9, 3:3, 3:1, requires_grad=0, device=cpu),\n",
      "      %163 : Float(64:1, requires_grad=0, device=cpu),\n",
      "      %165 : Float(128:576, 64:9, 3:3, 3:1, requires_grad=0, device=cpu),\n",
      "      %166 : Float(128:1, requires_grad=0, device=cpu),\n",
      "      %168 : Float(128:64, 64:1, 1:1, 1:1, requires_grad=0, device=cpu),\n",
      "      %169 : Float(128:1, requires_grad=0, device=cpu),\n",
      "      %170 : Float(requires_grad=0, device=cpu)):\n",
      "  %82 : Float(1:672, 3:224, 224:1, requires_grad=0, device=cpu) = onnx::ReduceMean[axes=[2], keepdims=0](%0) # <ipython-input-3-5e22e13578e8>:66:0\n",
      "  %83 : Float(1:3, 3:1, requires_grad=0, device=cpu) = onnx::ReduceMean[axes=[2], keepdims=0](%82) # <ipython-input-3-5e22e13578e8>:66:0\n",
      "  %84 : Float(1:3, 3:1, 1:1, requires_grad=0, device=cpu) = onnx::Unsqueeze[axes=[2]](%83) # <ipython-input-3-5e22e13578e8>:66:0\n",
      "  %85 : Float(1:3, 3:1, 1:1, 1:1, requires_grad=0, device=cpu) = onnx::Unsqueeze[axes=[3]](%84) # <ipython-input-3-5e22e13578e8>:66:0\n",
      "  %86 : Float(1:150528, 3:50176, 224:224, 224:1, requires_grad=0, device=cpu) = onnx::Sub(%0, %85) # <ipython-input-3-5e22e13578e8>:67:0\n",
      "  %89 : Float(1:150528, 3:50176, 224:224, 224:1, requires_grad=0, device=cpu) = onnx::Pow(%86, %170) # <ipython-input-3-5e22e13578e8>:67:0\n",
      "  %90 : Float(requires_grad=0, device=cpu) = onnx::ReduceMean[keepdims=0](%89) # <ipython-input-3-5e22e13578e8>:67:0\n",
      "  %91 : Float(requires_grad=0, device=cpu) = onnx::Sqrt(%90) # <ipython-input-3-5e22e13578e8>:67:0\n",
      "  %92 : Float(requires_grad=0, device=cpu) = onnx::Constant[value={1e-08}]()\n",
      "  %93 : Float(requires_grad=0, device=cpu) = onnx::Add(%91, %92)\n",
      "  %94 : Float(1:150528, 3:50176, 224:224, 224:1, requires_grad=0, device=cpu) = onnx::Sub(%0, %85)\n",
      "  %95 : Float(requires_grad=0, device=cpu) = onnx::Constant[value={4}]()\n",
      "  %96 : Float(requires_grad=0, device=cpu) = onnx::Mul(%93, %95)\n",
      "  %97 : Float(1:150528, 3:50176, 224:224, 224:1, requires_grad=0, device=cpu) = onnx::Div(%94, %96)\n",
      "  %98 : Float(1:200704, 16:12544, 112:112, 112:1, requires_grad=1, device=cpu) = onnx::Conv[dilations=[1, 1], group=1, kernel_shape=[7, 7], pads=[3, 3, 3, 3], strides=[2, 2]](%97, %master.0.weight, %master.0.bias) # /opt/conda/lib/python3.7/site-packages/torch/nn/modules/conv.py:420:0\n",
      "  %99 : Float(1:200704, 16:12544, 112:112, 112:1, requires_grad=1, device=cpu) = onnx::Relu(%98) # /opt/conda/lib/python3.7/site-packages/torch/nn/functional.py:1136:0\n",
      "  %100 : Float(1:50176, 16:3136, 56:56, 56:1, requires_grad=1, device=cpu) = onnx::MaxPool[kernel_shape=[3, 3], pads=[1, 1, 1, 1], strides=[2, 2]](%99) # /opt/conda/lib/python3.7/site-packages/torch/nn/functional.py:586:0\n",
      "  %143 : Float(1:50176, 16:3136, 56:56, 56:1, requires_grad=1, device=cpu) = onnx::Conv[dilations=[1, 1], group=1, kernel_shape=[3, 3], pads=[1, 1, 1, 1], strides=[1, 1]](%100, %144, %145)\n",
      "  %103 : Float(1:50176, 16:3136, 56:56, 56:1, requires_grad=1, device=cpu) = onnx::Relu(%143) # /opt/conda/lib/python3.7/site-packages/torch/nn/functional.py:1136:0\n",
      "  %146 : Float(1:100352, 32:3136, 56:56, 56:1, requires_grad=1, device=cpu) = onnx::Conv[dilations=[1, 1], group=1, kernel_shape=[3, 3], pads=[1, 1, 1, 1], strides=[1, 1]](%103, %147, %148)\n",
      "  %106 : Float(1:100352, 32:3136, 56:56, 56:1, requires_grad=1, device=cpu) = onnx::Relu(%146) # /opt/conda/lib/python3.7/site-packages/torch/nn/functional.py:1136:0\n",
      "  %149 : Float(1:100352, 32:3136, 56:56, 56:1, requires_grad=1, device=cpu) = onnx::Conv[dilations=[1, 1], group=1, kernel_shape=[1, 1], pads=[0, 0, 0, 0], strides=[1, 1]](%100, %150, %151)\n",
      "  %109 : Float(1:100352, 32:3136, 56:56, 56:1, requires_grad=1, device=cpu) = onnx::Relu(%149) # /opt/conda/lib/python3.7/site-packages/torch/nn/functional.py:1136:0\n",
      "  %110 : Float(1:100352, 32:3136, 56:56, 56:1, requires_grad=1, device=cpu) = onnx::Add(%106, %109) # <ipython-input-3-5e22e13578e8>:75:0\n",
      "  %111 : Float(1:25088, 32:784, 28:28, 28:1, requires_grad=1, device=cpu) = onnx::MaxPool[kernel_shape=[3, 3], pads=[1, 1, 1, 1], strides=[2, 2]](%110) # /opt/conda/lib/python3.7/site-packages/torch/nn/functional.py:586:0\n",
      "  %152 : Float(1:25088, 32:784, 28:28, 28:1, requires_grad=1, device=cpu) = onnx::Conv[dilations=[1, 1], group=1, kernel_shape=[3, 3], pads=[1, 1, 1, 1], strides=[1, 1]](%111, %153, %154)\n",
      "  %114 : Float(1:25088, 32:784, 28:28, 28:1, requires_grad=1, device=cpu) = onnx::Relu(%152) # /opt/conda/lib/python3.7/site-packages/torch/nn/functional.py:1136:0\n",
      "  %155 : Float(1:50176, 64:784, 28:28, 28:1, requires_grad=1, device=cpu) = onnx::Conv[dilations=[1, 1], group=1, kernel_shape=[3, 3], pads=[1, 1, 1, 1], strides=[1, 1]](%114, %156, %157)\n",
      "  %117 : Float(1:50176, 64:784, 28:28, 28:1, requires_grad=1, device=cpu) = onnx::Relu(%155) # /opt/conda/lib/python3.7/site-packages/torch/nn/functional.py:1136:0\n",
      "  %158 : Float(1:50176, 64:784, 28:28, 28:1, requires_grad=1, device=cpu) = onnx::Conv[dilations=[1, 1], group=1, kernel_shape=[1, 1], pads=[0, 0, 0, 0], strides=[1, 1]](%111, %159, %160)\n",
      "  %120 : Float(1:50176, 64:784, 28:28, 28:1, requires_grad=1, device=cpu) = onnx::Relu(%158) # /opt/conda/lib/python3.7/site-packages/torch/nn/functional.py:1136:0\n",
      "  %121 : Float(1:50176, 64:784, 28:28, 28:1, requires_grad=1, device=cpu) = onnx::Add(%117, %120) # <ipython-input-3-5e22e13578e8>:79:0\n",
      "  %122 : Float(1:12544, 64:196, 14:14, 14:1, requires_grad=1, device=cpu) = onnx::MaxPool[kernel_shape=[3, 3], pads=[1, 1, 1, 1], strides=[2, 2]](%121) # /opt/conda/lib/python3.7/site-packages/torch/nn/functional.py:586:0\n",
      "  %161 : Float(1:12544, 64:196, 14:14, 14:1, requires_grad=1, device=cpu) = onnx::Conv[dilations=[1, 1], group=1, kernel_shape=[3, 3], pads=[1, 1, 1, 1], strides=[1, 1]](%122, %162, %163)\n",
      "  %125 : Float(1:12544, 64:196, 14:14, 14:1, requires_grad=1, device=cpu) = onnx::Relu(%161) # /opt/conda/lib/python3.7/site-packages/torch/nn/functional.py:1136:0\n",
      "  %164 : Float(1:25088, 128:196, 14:14, 14:1, requires_grad=1, device=cpu) = onnx::Conv[dilations=[1, 1], group=1, kernel_shape=[3, 3], pads=[1, 1, 1, 1], strides=[1, 1]](%125, %165, %166)\n",
      "  %128 : Float(1:25088, 128:196, 14:14, 14:1, requires_grad=1, device=cpu) = onnx::Relu(%164) # /opt/conda/lib/python3.7/site-packages/torch/nn/functional.py:1136:0\n",
      "  %167 : Float(1:25088, 128:196, 14:14, 14:1, requires_grad=1, device=cpu) = onnx::Conv[dilations=[1, 1], group=1, kernel_shape=[1, 1], pads=[0, 0, 0, 0], strides=[1, 1]](%122, %168, %169)\n",
      "  %131 : Float(1:25088, 128:196, 14:14, 14:1, requires_grad=1, device=cpu) = onnx::Relu(%167) # /opt/conda/lib/python3.7/site-packages/torch/nn/functional.py:1136:0\n",
      "  %132 : Float(1:25088, 128:196, 14:14, 14:1, requires_grad=1, device=cpu) = onnx::Add(%128, %131) # <ipython-input-3-5e22e13578e8>:84:0\n",
      "  %133 : Float(1:6272, 128:49, 7:7, 7:1, requires_grad=1, device=cpu) = onnx::MaxPool[kernel_shape=[3, 3], pads=[1, 1, 1, 1], strides=[2, 2]](%132) # /opt/conda/lib/python3.7/site-packages/torch/nn/functional.py:586:0\n",
      "  %134 : Float(1:128, 128:1, requires_grad=1, device=cpu) = onnx::ReduceMean[axes=[2, 3], keepdims=0](%133) # /opt/conda/lib/python3.7/site-packages/torch/nn/functional.py:983:0\n",
      "  %135 : Float(1:256, 256:1, requires_grad=1, device=cpu) = onnx::Gemm[alpha=1., beta=1., transB=1](%134, %classifier.1.weight, %classifier.1.bias) # /opt/conda/lib/python3.7/site-packages/torch/nn/functional.py:1690:0\n",
      "  %136 : Float(1:256, 256:1, requires_grad=1, device=cpu) = onnx::BatchNormalization[epsilon=1.0000000000000001e-05, momentum=0.90000000000000002](%135, %classifier.2.weight, %classifier.2.bias, %classifier.2.running_mean, %classifier.2.running_var) # /opt/conda/lib/python3.7/site-packages/torch/nn/functional.py:2058:0\n",
      "  %137 : Float(1:256, 256:1, requires_grad=1, device=cpu) = onnx::Relu(%136) # /opt/conda/lib/python3.7/site-packages/torch/nn/functional.py:983:0\n",
      "  %138 : Float(1:256, 256:1, requires_grad=1, device=cpu) = onnx::Gemm[alpha=1., beta=1., transB=1](%137, %classifier.5.weight, %classifier.5.bias) # /opt/conda/lib/python3.7/site-packages/torch/nn/functional.py:1690:0\n",
      "  %139 : Float(1:256, 256:1, requires_grad=1, device=cpu) = onnx::BatchNormalization[epsilon=1.0000000000000001e-05, momentum=0.90000000000000002](%138, %classifier.6.weight, %classifier.6.bias, %classifier.6.running_mean, %classifier.6.running_var) # /opt/conda/lib/python3.7/site-packages/torch/nn/functional.py:2058:0\n",
      "  %140 : Float(1:256, 256:1, requires_grad=1, device=cpu) = onnx::Relu(%139) # /opt/conda/lib/python3.7/site-packages/torch/nn/functional.py:983:0\n",
      "  %141 : Float(1:29, 29:1, requires_grad=1, device=cpu) = onnx::Gemm[alpha=1., beta=1., transB=1](%140, %classifier.9.weight, %classifier.9.bias) # /opt/conda/lib/python3.7/site-packages/torch/nn/functional.py:1690:0\n",
      "  %142 : Float(1:29, 29:1, requires_grad=1, device=cpu) = onnx::LogSoftmax[axis=1](%141) # /opt/conda/lib/python3.7/site-packages/torch/nn/functional.py:1605:0\n",
      "  return (%142)\n",
      "\n"
     ]
    }
   ],
   "source": [
    "onnx_model_path = \"sl.onnx\"\n",
    "model = torch.load(name)\n",
    "model.to(\"cpu\")\n",
    "model.eval()\n",
    "dummy_input = torch.randn(1, 3, 224, 224)\n",
    "torch.onnx.export(model, dummy_input, onnx_model_path, verbose=True)"
   ]
  },
  {
   "cell_type": "markdown",
   "id": "satisfied-bowling",
   "metadata": {
    "papermill": {
     "duration": 20.875907,
     "end_time": "2021-06-05T14:36:48.336985",
     "exception": false,
     "start_time": "2021-06-05T14:36:27.461078",
     "status": "completed"
    },
    "tags": []
   },
   "source": [
    "# Run Inference with opencv"
   ]
  },
  {
   "cell_type": "code",
   "execution_count": 12,
   "id": "genuine-court",
   "metadata": {
    "execution": {
     "iopub.execute_input": "2021-06-05T14:37:30.757067Z",
     "iopub.status.busy": "2021-06-05T14:37:30.756167Z",
     "iopub.status.idle": "2021-06-05T14:37:30.758401Z",
     "shell.execute_reply": "2021-06-05T14:37:30.758771Z",
     "shell.execute_reply.started": "2021-06-05T13:14:53.978589Z"
    },
    "papermill": {
     "duration": 20.979551,
     "end_time": "2021-06-05T14:37:30.758912",
     "exception": false,
     "start_time": "2021-06-05T14:37:09.779361",
     "status": "completed"
    },
    "tags": []
   },
   "outputs": [],
   "source": [
    "import matplotlib.pyplot as plt"
   ]
  },
  {
   "cell_type": "code",
   "execution_count": 13,
   "id": "federal-percentage",
   "metadata": {
    "execution": {
     "iopub.execute_input": "2021-06-05T14:38:13.528331Z",
     "iopub.status.busy": "2021-06-05T14:38:13.527659Z",
     "iopub.status.idle": "2021-06-05T14:38:13.652131Z",
     "shell.execute_reply": "2021-06-05T14:38:13.651725Z",
     "shell.execute_reply.started": "2021-06-05T13:14:57.210763Z"
    },
    "papermill": {
     "duration": 21.561443,
     "end_time": "2021-06-05T14:38:13.652266",
     "exception": false,
     "start_time": "2021-06-05T14:37:52.090823",
     "status": "completed"
    },
    "tags": []
   },
   "outputs": [
    {
     "ename": "error",
     "evalue": "OpenCV(4.5.1) /tmp/pip-req-build-tk9iuyva/opencv/modules/dnn/src/onnx/onnx_importer.cpp:1887: error: (-2:Unspecified error) in function 'handleNode'\n> Node [Sqrt]:(91) parse error: OpenCV(4.5.1) /tmp/pip-req-build-tk9iuyva/opencv/modules/dnn/src/dnn.cpp:614: error: (-2:Unspecified error) Can't create layer \"91\" of type \"Sqrt\" in function 'getLayerInstance'\n> ",
     "output_type": "error",
     "traceback": [
      "\u001b[0;31m---------------------------------------------------------------------------\u001b[0m",
      "\u001b[0;31merror\u001b[0m                                     Traceback (most recent call last)",
      "\u001b[0;32m<ipython-input-13-f44dd34c6ba7>\u001b[0m in \u001b[0;36m<module>\u001b[0;34m\u001b[0m\n\u001b[1;32m      1\u001b[0m \u001b[0mplt\u001b[0m\u001b[0;34m.\u001b[0m\u001b[0mfigure\u001b[0m\u001b[0;34m(\u001b[0m\u001b[0mfigsize\u001b[0m\u001b[0;34m=\u001b[0m\u001b[0;34m(\u001b[0m\u001b[0;36m20\u001b[0m\u001b[0;34m,\u001b[0m \u001b[0;36m20\u001b[0m\u001b[0;34m)\u001b[0m\u001b[0;34m)\u001b[0m\u001b[0;34m\u001b[0m\u001b[0;34m\u001b[0m\u001b[0m\n\u001b[1;32m      2\u001b[0m \u001b[0mimageDir\u001b[0m \u001b[0;34m=\u001b[0m \u001b[0;34m'../input/asl-alphabet/asl_alphabet_test/asl_alphabet_test'\u001b[0m\u001b[0;34m\u001b[0m\u001b[0;34m\u001b[0m\u001b[0m\n\u001b[0;32m----> 3\u001b[0;31m \u001b[0mnet\u001b[0m \u001b[0;34m=\u001b[0m  \u001b[0mcv2\u001b[0m\u001b[0;34m.\u001b[0m\u001b[0mdnn\u001b[0m\u001b[0;34m.\u001b[0m\u001b[0mreadNetFromONNX\u001b[0m\u001b[0;34m(\u001b[0m\u001b[0monnx_model_path\u001b[0m\u001b[0;34m)\u001b[0m\u001b[0;34m\u001b[0m\u001b[0;34m\u001b[0m\u001b[0m\n\u001b[0m\u001b[1;32m      4\u001b[0m \u001b[0;32mwith\u001b[0m \u001b[0mopen\u001b[0m\u001b[0;34m(\u001b[0m\u001b[0;34m'classes.txt'\u001b[0m\u001b[0;34m,\u001b[0m \u001b[0;34m'r'\u001b[0m\u001b[0;34m)\u001b[0m \u001b[0;32mas\u001b[0m \u001b[0mf\u001b[0m\u001b[0;34m:\u001b[0m\u001b[0;34m\u001b[0m\u001b[0;34m\u001b[0m\u001b[0m\n\u001b[1;32m      5\u001b[0m     \u001b[0mclasses\u001b[0m \u001b[0;34m=\u001b[0m \u001b[0mf\u001b[0m\u001b[0;34m.\u001b[0m\u001b[0mread\u001b[0m\u001b[0;34m(\u001b[0m\u001b[0;34m)\u001b[0m\u001b[0;34m.\u001b[0m\u001b[0msplit\u001b[0m\u001b[0;34m(\u001b[0m\u001b[0;34m'\\n'\u001b[0m\u001b[0;34m)\u001b[0m\u001b[0;34m\u001b[0m\u001b[0;34m\u001b[0m\u001b[0m\n",
      "\u001b[0;31merror\u001b[0m: OpenCV(4.5.1) /tmp/pip-req-build-tk9iuyva/opencv/modules/dnn/src/onnx/onnx_importer.cpp:1887: error: (-2:Unspecified error) in function 'handleNode'\n> Node [Sqrt]:(91) parse error: OpenCV(4.5.1) /tmp/pip-req-build-tk9iuyva/opencv/modules/dnn/src/dnn.cpp:614: error: (-2:Unspecified error) Can't create layer \"91\" of type \"Sqrt\" in function 'getLayerInstance'\n> "
     ]
    },
    {
     "data": {
      "text/plain": [
       "<Figure size 1440x1440 with 0 Axes>"
      ]
     },
     "metadata": {},
     "output_type": "display_data"
    }
   ],
   "source": [
    "plt.figure(figsize=(20, 20))\n",
    "imageDir = '../input/asl-alphabet/asl_alphabet_test/asl_alphabet_test'\n",
    "net =  cv2.dnn.readNetFromONNX(onnx_model_path) \n",
    "with open('classes.txt', 'r') as f:\n",
    "    classes = f.read().split('\\n')\n",
    "for i, image_name in enumerate(os.listdir(imageDir)):\n",
    "    image = cv2.imread(os.path.join(imageDir, image_name))\n",
    "    blob = cv2.dnn.blobFromImage(image, 1.0 / 255, (224, 224),(0, 0, 0), swapRB=True, crop=False)\n",
    "    net.setInput(blob)\n",
    "    preds = net.forward()\n",
    "    biggest_pred_index = np.array(preds)[0].argmax()\n",
    "    ax = plt.subplot(6, 5, i + 1)\n",
    "    plt.imshow(cv2.cvtColor(image, cv2.COLOR_BGR2RGB))\n",
    "    plt.title(\"predicted: {}, True: {}\".format(classes[biggest_pred_index], image_name.split('_test.jpg')[0]))\n",
    "    plt.axis(\"off\")"
   ]
  },
  {
   "cell_type": "code",
   "execution_count": null,
   "id": "according-cache",
   "metadata": {
    "papermill": {
     "duration": 21.468115,
     "end_time": "2021-06-05T14:38:56.265988",
     "exception": false,
     "start_time": "2021-06-05T14:38:34.797873",
     "status": "completed"
    },
    "tags": []
   },
   "outputs": [],
   "source": []
  }
 ],
 "metadata": {
  "kernelspec": {
   "display_name": "Python 3",
   "language": "python",
   "name": "python3"
  },
  "language_info": {
   "codemirror_mode": {
    "name": "ipython",
    "version": 3
   },
   "file_extension": ".py",
   "mimetype": "text/x-python",
   "name": "python",
   "nbconvert_exporter": "python",
   "pygments_lexer": "ipython3",
   "version": "3.7.10"
  },
  "papermill": {
   "default_parameters": {},
   "duration": 4923.63188,
   "end_time": "2021-06-05T14:39:20.010714",
   "environment_variables": {},
   "exception": null,
   "input_path": "__notebook__.ipynb",
   "output_path": "__notebook__.ipynb",
   "parameters": {},
   "start_time": "2021-06-05T13:17:16.378834",
   "version": "2.3.3"
  },
  "widgets": {
   "application/vnd.jupyter.widget-state+json": {
    "state": {
     "015d88baeebd4b2c98e69462d7e92c60": {
      "model_module": "@jupyter-widgets/controls",
      "model_module_version": "1.5.0",
      "model_name": "FloatProgressModel",
      "state": {
       "_dom_classes": [],
       "_model_module": "@jupyter-widgets/controls",
       "_model_module_version": "1.5.0",
       "_model_name": "FloatProgressModel",
       "_view_count": null,
       "_view_module": "@jupyter-widgets/controls",
       "_view_module_version": "1.5.0",
       "_view_name": "ProgressView",
       "bar_style": "success",
       "description": "",
       "description_tooltip": null,
       "layout": "IPY_MODEL_ae0de91f63a14b64a367b3ddad94291b",
       "max": 14212972.0,
       "min": 0.0,
       "orientation": "horizontal",
       "style": "IPY_MODEL_0eba7646f0804d9e9dc3492f18424dbb",
       "value": 14212972.0
      }
     },
     "0eba7646f0804d9e9dc3492f18424dbb": {
      "model_module": "@jupyter-widgets/controls",
      "model_module_version": "1.5.0",
      "model_name": "ProgressStyleModel",
      "state": {
       "_model_module": "@jupyter-widgets/controls",
       "_model_module_version": "1.5.0",
       "_model_name": "ProgressStyleModel",
       "_view_count": null,
       "_view_module": "@jupyter-widgets/base",
       "_view_module_version": "1.2.0",
       "_view_name": "StyleView",
       "bar_color": null,
       "description_width": ""
      }
     },
     "0eea0c2450f54d48b17264111656e457": {
      "model_module": "@jupyter-widgets/controls",
      "model_module_version": "1.5.0",
      "model_name": "HTMLModel",
      "state": {
       "_dom_classes": [],
       "_model_module": "@jupyter-widgets/controls",
       "_model_module_version": "1.5.0",
       "_model_name": "HTMLModel",
       "_view_count": null,
       "_view_module": "@jupyter-widgets/controls",
       "_view_module_version": "1.5.0",
       "_view_name": "HTMLView",
       "description": "",
       "description_tooltip": null,
       "layout": "IPY_MODEL_83241e6a852d46e3af7a761778949380",
       "placeholder": "​",
       "style": "IPY_MODEL_fa71e34003cf427c8ce5a41f21c27158",
       "value": "100%"
      }
     },
     "5e09d6a5f4e941d5a50f1b2ae0149ccb": {
      "model_module": "@jupyter-widgets/controls",
      "model_module_version": "1.5.0",
      "model_name": "DescriptionStyleModel",
      "state": {
       "_model_module": "@jupyter-widgets/controls",
       "_model_module_version": "1.5.0",
       "_model_name": "DescriptionStyleModel",
       "_view_count": null,
       "_view_module": "@jupyter-widgets/base",
       "_view_module_version": "1.2.0",
       "_view_name": "StyleView",
       "description_width": ""
      }
     },
     "83241e6a852d46e3af7a761778949380": {
      "model_module": "@jupyter-widgets/base",
      "model_module_version": "1.2.0",
      "model_name": "LayoutModel",
      "state": {
       "_model_module": "@jupyter-widgets/base",
       "_model_module_version": "1.2.0",
       "_model_name": "LayoutModel",
       "_view_count": null,
       "_view_module": "@jupyter-widgets/base",
       "_view_module_version": "1.2.0",
       "_view_name": "LayoutView",
       "align_content": null,
       "align_items": null,
       "align_self": null,
       "border": null,
       "bottom": null,
       "display": null,
       "flex": null,
       "flex_flow": null,
       "grid_area": null,
       "grid_auto_columns": null,
       "grid_auto_flow": null,
       "grid_auto_rows": null,
       "grid_column": null,
       "grid_gap": null,
       "grid_row": null,
       "grid_template_areas": null,
       "grid_template_columns": null,
       "grid_template_rows": null,
       "height": null,
       "justify_content": null,
       "justify_items": null,
       "left": null,
       "margin": null,
       "max_height": null,
       "max_width": null,
       "min_height": null,
       "min_width": null,
       "object_fit": null,
       "object_position": null,
       "order": null,
       "overflow": null,
       "overflow_x": null,
       "overflow_y": null,
       "padding": null,
       "right": null,
       "top": null,
       "visibility": null,
       "width": null
      }
     },
     "ae0de91f63a14b64a367b3ddad94291b": {
      "model_module": "@jupyter-widgets/base",
      "model_module_version": "1.2.0",
      "model_name": "LayoutModel",
      "state": {
       "_model_module": "@jupyter-widgets/base",
       "_model_module_version": "1.2.0",
       "_model_name": "LayoutModel",
       "_view_count": null,
       "_view_module": "@jupyter-widgets/base",
       "_view_module_version": "1.2.0",
       "_view_name": "LayoutView",
       "align_content": null,
       "align_items": null,
       "align_self": null,
       "border": null,
       "bottom": null,
       "display": null,
       "flex": null,
       "flex_flow": null,
       "grid_area": null,
       "grid_auto_columns": null,
       "grid_auto_flow": null,
       "grid_auto_rows": null,
       "grid_column": null,
       "grid_gap": null,
       "grid_row": null,
       "grid_template_areas": null,
       "grid_template_columns": null,
       "grid_template_rows": null,
       "height": null,
       "justify_content": null,
       "justify_items": null,
       "left": null,
       "margin": null,
       "max_height": null,
       "max_width": null,
       "min_height": null,
       "min_width": null,
       "object_fit": null,
       "object_position": null,
       "order": null,
       "overflow": null,
       "overflow_x": null,
       "overflow_y": null,
       "padding": null,
       "right": null,
       "top": null,
       "visibility": null,
       "width": null
      }
     },
     "bed8bd7d37e44b69a006d1db53637450": {
      "model_module": "@jupyter-widgets/base",
      "model_module_version": "1.2.0",
      "model_name": "LayoutModel",
      "state": {
       "_model_module": "@jupyter-widgets/base",
       "_model_module_version": "1.2.0",
       "_model_name": "LayoutModel",
       "_view_count": null,
       "_view_module": "@jupyter-widgets/base",
       "_view_module_version": "1.2.0",
       "_view_name": "LayoutView",
       "align_content": null,
       "align_items": null,
       "align_self": null,
       "border": null,
       "bottom": null,
       "display": null,
       "flex": null,
       "flex_flow": null,
       "grid_area": null,
       "grid_auto_columns": null,
       "grid_auto_flow": null,
       "grid_auto_rows": null,
       "grid_column": null,
       "grid_gap": null,
       "grid_row": null,
       "grid_template_areas": null,
       "grid_template_columns": null,
       "grid_template_rows": null,
       "height": null,
       "justify_content": null,
       "justify_items": null,
       "left": null,
       "margin": null,
       "max_height": null,
       "max_width": null,
       "min_height": null,
       "min_width": null,
       "object_fit": null,
       "object_position": null,
       "order": null,
       "overflow": null,
       "overflow_x": null,
       "overflow_y": null,
       "padding": null,
       "right": null,
       "top": null,
       "visibility": null,
       "width": null
      }
     },
     "c5d29fa6df0640119fa31faf304be54a": {
      "model_module": "@jupyter-widgets/base",
      "model_module_version": "1.2.0",
      "model_name": "LayoutModel",
      "state": {
       "_model_module": "@jupyter-widgets/base",
       "_model_module_version": "1.2.0",
       "_model_name": "LayoutModel",
       "_view_count": null,
       "_view_module": "@jupyter-widgets/base",
       "_view_module_version": "1.2.0",
       "_view_name": "LayoutView",
       "align_content": null,
       "align_items": null,
       "align_self": null,
       "border": null,
       "bottom": null,
       "display": null,
       "flex": null,
       "flex_flow": null,
       "grid_area": null,
       "grid_auto_columns": null,
       "grid_auto_flow": null,
       "grid_auto_rows": null,
       "grid_column": null,
       "grid_gap": null,
       "grid_row": null,
       "grid_template_areas": null,
       "grid_template_columns": null,
       "grid_template_rows": null,
       "height": null,
       "justify_content": null,
       "justify_items": null,
       "left": null,
       "margin": null,
       "max_height": null,
       "max_width": null,
       "min_height": null,
       "min_width": null,
       "object_fit": null,
       "object_position": null,
       "order": null,
       "overflow": null,
       "overflow_x": null,
       "overflow_y": null,
       "padding": null,
       "right": null,
       "top": null,
       "visibility": null,
       "width": null
      }
     },
     "f6e4afa300e944088bd8436b24b07ad7": {
      "model_module": "@jupyter-widgets/controls",
      "model_module_version": "1.5.0",
      "model_name": "HTMLModel",
      "state": {
       "_dom_classes": [],
       "_model_module": "@jupyter-widgets/controls",
       "_model_module_version": "1.5.0",
       "_model_name": "HTMLModel",
       "_view_count": null,
       "_view_module": "@jupyter-widgets/controls",
       "_view_module_version": "1.5.0",
       "_view_name": "HTMLView",
       "description": "",
       "description_tooltip": null,
       "layout": "IPY_MODEL_c5d29fa6df0640119fa31faf304be54a",
       "placeholder": "​",
       "style": "IPY_MODEL_5e09d6a5f4e941d5a50f1b2ae0149ccb",
       "value": " 13.6M/13.6M [00:01&lt;00:00, 20.1MB/s]"
      }
     },
     "fa71e34003cf427c8ce5a41f21c27158": {
      "model_module": "@jupyter-widgets/controls",
      "model_module_version": "1.5.0",
      "model_name": "DescriptionStyleModel",
      "state": {
       "_model_module": "@jupyter-widgets/controls",
       "_model_module_version": "1.5.0",
       "_model_name": "DescriptionStyleModel",
       "_view_count": null,
       "_view_module": "@jupyter-widgets/base",
       "_view_module_version": "1.2.0",
       "_view_name": "StyleView",
       "description_width": ""
      }
     },
     "feb5fedcf2e048519d35e2bcbaf2c4a5": {
      "model_module": "@jupyter-widgets/controls",
      "model_module_version": "1.5.0",
      "model_name": "HBoxModel",
      "state": {
       "_dom_classes": [],
       "_model_module": "@jupyter-widgets/controls",
       "_model_module_version": "1.5.0",
       "_model_name": "HBoxModel",
       "_view_count": null,
       "_view_module": "@jupyter-widgets/controls",
       "_view_module_version": "1.5.0",
       "_view_name": "HBoxView",
       "box_style": "",
       "children": [
        "IPY_MODEL_0eea0c2450f54d48b17264111656e457",
        "IPY_MODEL_015d88baeebd4b2c98e69462d7e92c60",
        "IPY_MODEL_f6e4afa300e944088bd8436b24b07ad7"
       ],
       "layout": "IPY_MODEL_bed8bd7d37e44b69a006d1db53637450"
      }
     }
    },
    "version_major": 2,
    "version_minor": 0
   }
  }
 },
 "nbformat": 4,
 "nbformat_minor": 5
}
